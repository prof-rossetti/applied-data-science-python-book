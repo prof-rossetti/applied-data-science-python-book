{
  "cells": [
    {
      "cell_type": "raw",
      "metadata": {},
      "source": [
        "---\n",
        "format:\n",
        "  html:\n",
        "    code-fold: false\n",
        "execute:\n",
        "  cache: true\n",
        "---"
      ],
      "id": "b321fa1a"
    },
    {
      "cell_type": "markdown",
      "metadata": {},
      "source": [
        "# Moving Averages in Time-series Data\n",
        "\n",
        "We can leverage the concept of [shift-based methods](./shift-methods.qmd) to calculate our own trends and moving averages in time-series data.\n",
        "\n",
        "## Simple vs Exponential Weighted Moving Average\n",
        "\n",
        "We will implement two different kinds of moving average:\n",
        "\n",
        "  + Rolling Window Averages, using the [`rolling` method](https://pandas.pydata.org/docs/reference/api/pandas.DataFrame.rolling.html)\n",
        "  + Exponential Weighted Moving Averages, using the [`ewm` method](https://pandas.pydata.org/docs/reference/api/pandas.DataFrame.ewm.html)\n",
        "\n",
        "Let's consider the following time series dataset of stock prices:\n"
      ],
      "id": "76eff441"
    },
    {
      "cell_type": "code",
      "metadata": {},
      "source": [
        "from pandas import read_csv\n",
        "\n",
        "request_url = \"https://raw.githubusercontent.com/prof-rossetti/python-for-finance/main/docs/data/daily_adjusted_NFLX.csv\"\n",
        "prices_df = read_csv(request_url)\n",
        "prices_df.head()"
      ],
      "id": "e25af47f",
      "execution_count": null,
      "outputs": []
    },
    {
      "cell_type": "markdown",
      "metadata": {},
      "source": [
        "Because we'll be using shift-based methods, we must first sort the data, as usual, by date in ascending order:\n"
      ],
      "id": "e8b1c52f"
    },
    {
      "cell_type": "code",
      "metadata": {},
      "source": [
        "prices_df.sort_values(by=[\"timestamp\"], inplace=True) #\n",
        "prices_df.head()"
      ],
      "id": "69a0c707",
      "execution_count": null,
      "outputs": []
    },
    {
      "cell_type": "code",
      "metadata": {},
      "source": [
        "prices_df[\"ma_50\"] = prices_df[\"adjusted_close\"].rolling(window=50).mean()\n",
        "\n",
        "prices_df[\"ema_50\"] = prices_df[\"adjusted_close\"].ewm(span=50, min_periods=0, adjust=False, ignore_na=False).mean()\n",
        "\n",
        "prices_df[[\"timestamp\", \"adjusted_close\", \"ma_50\", \"ema_50\"]]"
      ],
      "id": "7b8ef940",
      "execution_count": null,
      "outputs": []
    },
    {
      "cell_type": "code",
      "metadata": {},
      "source": [
        "import plotly.express as px\n",
        "\n",
        "px.line(prices_df, x=\"timestamp\", y=[\"close\", \"ma_50\", \"ema_50\"],\n",
        "        title=f\"Adjusted Closing Prices\",\n",
        "        color_discrete_map={\n",
        "            \"close\": \"royalblue\",\n",
        "            \"ma_50\": \"orange\",\n",
        "            \"ema_50\":\"yellow\"\n",
        "        }\n",
        ")"
      ],
      "id": "3b1079af",
      "execution_count": null,
      "outputs": []
    },
    {
      "cell_type": "markdown",
      "metadata": {},
      "source": [
        "You'll notice there are no values for the first N number of periods in our rolling window average (where N is the size of the window). This is because there aren't enough values to complete the average. It's OK!\n",
        "\n",
        "If you would like to change this behavior to be less methodologically strict, we can apply the `min_periods` parameter, setting minimum number of periods to zero, in which case as many values will be used until we get to fifty, at which point the true rolling average takes over:\n"
      ],
      "id": "2749702d"
    },
    {
      "cell_type": "code",
      "metadata": {},
      "source": [
        "# SETTING MIN PERIODS = ZERO:\n",
        "prices_df[\"ma_50_min_0\"] = prices_df[\"adjusted_close\"].rolling(window=50, min_periods=0).mean()\n",
        "\n",
        "px.line(prices_df, x=\"timestamp\",\n",
        "        y=[\"close\", \"ma_50_min_0\", \"ma_50\", \"ema_50\"],\n",
        "        title=f\"Adjusted Closing Prices\",\n",
        "        color_discrete_map={\n",
        "            \"close\": \"royalblue\",\n",
        "            \"ma_50_min_0\": \"pink\",\n",
        "            \"ma_50\": \"orange\",\n",
        "            \"ema_50\":\"yellow\"\n",
        "        }\n",
        ")"
      ],
      "id": "3671982d",
      "execution_count": null,
      "outputs": []
    },
    {
      "cell_type": "markdown",
      "metadata": {},
      "source": [
        "## Golden Cross\n",
        "\n",
        "<img src=\"https://www.investopedia.com/thmb/2ZfXiCx5edgO3ITq8pYmdphrAGQ=/1500x0/filters:no_upscale():max_bytes(150000):strip_icc()/goldencross-1323afb7bf1f412a9bdf0b058710d6e5.jpg\" height=350>\n",
        "\n",
        "Reference: <https://www.investopedia.com/terms/g/goldencross.asp>\n",
        "\n",
        "> \"A Golden Cross is a chart pattern in which a relatively short-term moving average crosses above a long-term moving average. It is a bullish breakout pattern that forms when a security's short-term moving average (such as the 50-day moving average) crosses above its long-term moving average (such as the 200-day moving average) or resistance level.\"\n",
        "\n",
        "For this \"golden cross\" analysis we will use dataset of Bitcoin prices:\n"
      ],
      "id": "87f53810"
    },
    {
      "cell_type": "code",
      "metadata": {},
      "source": [
        "from pandas import read_csv, to_datetime\n",
        "\n",
        "def fetch_crypto_data():\n",
        "    request_url = (\n",
        "        \"https://raw.githubusercontent.com/\"\n",
        "        \"prof-rossetti/applied-data-science-python-book/\"\n",
        "        \"main/docs/data/currency_daily_btc_usd_20141123.csv\"\n",
        "    )\n",
        "    df = read_csv(request_url)\n",
        "    df.index = to_datetime(df[\"timestamp\"])\n",
        "    df.drop(columns=[\"timestamp\"], inplace=True)\n",
        "    return df\n",
        "\n",
        "df = fetch_crypto_data()\n",
        "df.head()"
      ],
      "id": "a0a0ed13",
      "execution_count": null,
      "outputs": []
    },
    {
      "cell_type": "markdown",
      "metadata": {},
      "source": [
        ":::{.callout-note title=\"Data Source\"}\n",
        "Recent historical prices for Bitcoin, from the AlphaVantage API, accessed on November 23, 2024.\n",
        "\n",
        "Source: <https://www.alphavantage.co/documentation/#currency-daily>\n",
        ":::\n",
        "\n",
        "\n",
        "Calculating the short-term and long-term moving averages, using 50 and 200 days respectively:\n"
      ],
      "id": "a197a2b1"
    },
    {
      "cell_type": "code",
      "metadata": {},
      "source": [
        "def add_moving_avg(df, window=50):\n",
        "    df = df.sort_index() # assumes index is datetime-aware\n",
        "    df[f\"MA_{window}\"] = df[\"close\"].rolling(window=window).mean()\n",
        "    return df\n",
        "\n",
        "df = add_moving_avg(df, window=50)\n",
        "df = add_moving_avg(df, window=200)\n",
        "\n",
        "df = df.dropna()\n",
        "df = df.round(2)\n",
        "df.head()"
      ],
      "id": "ad2fdf6c",
      "execution_count": null,
      "outputs": []
    },
    {
      "cell_type": "markdown",
      "metadata": {},
      "source": [
        "Identifying \"golden cross\" points where the 50-day average surpasses the 200-day average:\n"
      ],
      "id": "d732fbc0"
    },
    {
      "cell_type": "code",
      "metadata": {},
      "source": [
        "has_crossed = (df['MA_50'] > df['MA_200'])\n",
        "not_previously_crossed = (df['MA_50'].shift(1) <= df['MA_200'].shift(1))\n",
        "df['Golden_Cross'] = (has_crossed & not_previously_crossed)\n",
        "\n",
        "golden_cross_points = df[df['Golden_Cross'] == True]\n",
        "golden_cross_points[[\"close\", \"MA_50\", \"MA_200\"]].head()"
      ],
      "id": "a2b4f408",
      "execution_count": null,
      "outputs": []
    },
    {
      "cell_type": "markdown",
      "metadata": {},
      "source": [
        "Visualizing the golden cross points:\n"
      ],
      "id": "7a7d6789"
    },
    {
      "cell_type": "code",
      "metadata": {},
      "source": [
        "title = \"Bitcoin Prices with Moving Average and Golden Cross\"\n",
        "colors_map = {\"close\": \"steelblue\", \"MA_50\": \"yellow\", \"MA_200\": \"orange\"}\n",
        "\n",
        "fig = px.line(df, y=[\"close\", \"MA_50\", \"MA_200\"], height=450, title=title,\n",
        "    color_discrete_map=colors_map\n",
        ")\n",
        "\n",
        "fig.add_scatter(\n",
        "    x=golden_cross_points.index,\n",
        "    y=golden_cross_points['MA_50'],\n",
        "    mode='markers',\n",
        "    marker=dict(size=12, color='yellow', symbol='x'),\n",
        "    name='Golden Cross'\n",
        ")\n",
        "fig.show()"
      ],
      "id": "f1186c67",
      "execution_count": null,
      "outputs": []
    },
    {
      "cell_type": "markdown",
      "metadata": {},
      "source": [
        "## Bollinger Bands\n",
        "\n",
        "<img src=\"https://www.investopedia.com/thmb/W6lsIWt9KIrGcvOndRHcOc-AKgY=/750x0/filters:no_upscale():max_bytes(150000):strip_icc():format(webp)/bollinger-band-4200502-06f2a74c1c9d471085cf8c2f3a4fc514.jpg\" height=350>\n",
        "\n",
        "Reference: <https://www.investopedia.com/terms/b/bollingerbands.asp>\n",
        "\n",
        "> \"Bollinger Bands is a technical analysis tool developed by John Bollinger in the 1980s to help investors and traders gauge market volatility and identify when securities are poised to rise or fall.\"\n",
        "\n",
        "> \"The three lines that make up Bollinger Bands are based on a security's price moves. The center line is the intermediate-term trend and is typically a 20-day SMA of the closing prices. The upper and lower bands are plotted a distance from the SMA set by a certain number of standard deviations, usually two, above and below the center line.\"\n",
        "\n",
        "Loading the data and sorting time series by date in ascending order, as necessary:\n"
      ],
      "id": "2bbd2e57"
    },
    {
      "cell_type": "code",
      "metadata": {},
      "source": [
        "df = fetch_crypto_data()\n",
        "df = df.sort_index() # assumes index is datetime-aware"
      ],
      "id": "6cbfd563",
      "execution_count": null,
      "outputs": []
    },
    {
      "cell_type": "markdown",
      "metadata": {},
      "source": [
        "Calculating moving average, moving standard deviation, and upper and lower bands:\n"
      ],
      "id": "a5daeaf8"
    },
    {
      "cell_type": "code",
      "metadata": {},
      "source": [
        "window = 50\n",
        "ma_col = f\"MA_{window}\"\n",
        "std_col = f\"STD_{window}\"\n",
        "df[ma_col] = df[\"close\"].rolling(window=window).mean()\n",
        "df[std_col] = df[\"close\"].rolling(window=window).std()\n",
        "\n",
        "band_std = 2\n",
        "lower_col = f\"LOWER_{window}\"\n",
        "upper_col = f\"UPPER_{window}\"\n",
        "df[upper_col] = df[ma_col] + (band_std * df[std_col])\n",
        "df[lower_col] = df[ma_col] - (band_std * df[std_col])\n",
        "\n",
        "df = df.dropna()\n",
        "df = df.round(2)\n",
        "\n",
        "df[[\"close\", ma_col, lower_col, upper_col]].head()"
      ],
      "id": "1d15ad60",
      "execution_count": null,
      "outputs": []
    },
    {
      "cell_type": "markdown",
      "metadata": {},
      "source": [
        "Plotting the bands:\n"
      ],
      "id": "f9706d86"
    },
    {
      "cell_type": "code",
      "metadata": {},
      "source": [
        "import plotly.express as px\n",
        "\n",
        "title = \"Bitcoin Price with Moving Average and Bollinger Bands\"\n",
        "colors_map = {\"close\": \"steelblue\", ma_col: \"orange\",\n",
        "                upper_col: \"yellow\", lower_col: \"yellow\",\n",
        "}\n",
        "fig = px.line(df, y=[\"close\", ma_col, upper_col, lower_col],\n",
        "                title=title, color_discrete_map=colors_map,\n",
        "                labels={\"value\": \"Price (USD)\", \"timestamp\": \"Date\"},\n",
        ")\n",
        "fig.update_layout(legend_title_text=\"Legend\")\n",
        "fig.show()"
      ],
      "id": "f4b3cd8f",
      "execution_count": null,
      "outputs": []
    },
    {
      "cell_type": "markdown",
      "metadata": {},
      "source": [
        "Plotting bands (alternative fill variant):\n"
      ],
      "id": "c66ee618"
    },
    {
      "cell_type": "code",
      "metadata": {},
      "source": [
        "from pandas import concat, Series\n",
        "\n",
        "# fill regions:\n",
        "fig.add_traces([\n",
        "    dict(\n",
        "        x=concat([Series(df.index), Series(df.index)[::-1]]),\n",
        "        y=concat([df[upper_col], df[lower_col][::-1]]),\n",
        "        fill=\"toself\",\n",
        "        #fillcolor=\"rgba(128, 0, 128, 0.2)\",  # Light purple fill\n",
        "        fillcolor=\"rgba(255, 255, 102, 0.2)\",  # Light yellow fill\n",
        "        line=dict(color=\"rgba(255,255,255,0)\"),\n",
        "        hoverinfo=\"skip\",\n",
        "        showlegend=False\n",
        "    )\n",
        "])\n",
        "fig.show()"
      ],
      "id": "a6732e23",
      "execution_count": null,
      "outputs": []
    },
    {
      "cell_type": "markdown",
      "metadata": {},
      "source": [
        "How can we interpret the chart? Are the bands getting narrower or wider?"
      ],
      "id": "0cf83f21"
    }
  ],
  "metadata": {
    "kernelspec": {
      "name": "python3",
      "language": "python",
      "display_name": "Python 3 (ipykernel)"
    }
  },
  "nbformat": 4,
  "nbformat_minor": 5
}